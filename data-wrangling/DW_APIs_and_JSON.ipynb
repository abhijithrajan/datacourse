{
 "cells": [
  {
   "cell_type": "code",
   "execution_count": null,
   "metadata": {
    "collapsed": true
   },
   "outputs": [],
   "source": [
    "%matplotlib inline\n",
    "import matplotlib\n",
    "import seaborn as sns\n",
    "sns.set()\n",
    "matplotlib.rcParams['figure.dpi'] = 144"
   ]
  },
  {
   "cell_type": "markdown",
   "metadata": {},
   "source": [
    "# Consuming APIs (and JSON)\n",
    "<!-- requirement: secrets/twitter_secrets.json.sample -->\n"
   ]
  },
  {
   "cell_type": "markdown",
   "metadata": {},
   "source": [
    "Consuming APIs is supposed to be easy (that's the point of having an API).  \n",
    "\n",
    "Let's look at a simple example of consuming a JSON API.  The example we'll look at is a *geocoder*: That is, a service for converting between addresses and normalized geographic information (e.g. latitude and longitude).  Going from addresses to normalized form is \"forward geocoding\" and going the other way is \"reverse geocoding\".\n",
    "\n",
    "We'll interact with a free (and non-authenticated) geocoder run by OpenStreetMap.  The geocoded information is available by sending a GET request to <tt>http:&#8203;//nominatim.openstreetmap.org/search?q=<i>address</i>&addressdetails=1&format=json</tt>.  The portion before the question mark (`http://nominatim.openstreetmap.org/search`) is the endpoint on the server, while the portion following, known as the *query string*, contains the data being sent to the server.  (Thus, a GET request can be repeated simply by requesting the same URL again.  In contrast, the data sent in a POST request is contained in the request body, not in the URL.)\n",
    "\n",
    "As is typical, the query string consists of several key=value pairs, separated by ampersands.  The requested address is specified with the `q` key in this case.  Some characters, like the spaces and commas, cannot be using in the URL, so they must be encoded with the `urllib2.quote()` function."
   ]
  },
  {
   "cell_type": "code",
   "execution_count": 1,
   "metadata": {},
   "outputs": [
    {
     "data": {
      "text/plain": [
       "'1600%20Pennsylvania%20Avenue%2C%20Washington%2C%20DC'"
      ]
     },
     "execution_count": 1,
     "metadata": {},
     "output_type": "execute_result"
    }
   ],
   "source": [
    "import urllib2\n",
    "\n",
    "address = \"1600 Pennsylvania Avenue, Washington, DC\"\n",
    "urllib2.quote(address)"
   ]
  },
  {
   "cell_type": "code",
   "execution_count": 2,
   "metadata": {},
   "outputs": [
    {
     "data": {
      "text/plain": [
       "'http://nominatim.openstreetmap.org/search?q=1600%20Pennsylvania%20Avenue%2C%20Washington%2C%20DC&addressdetails=1&format=json'"
      ]
     },
     "execution_count": 2,
     "metadata": {},
     "output_type": "execute_result"
    }
   ],
   "source": [
    "url = \"http://nominatim.openstreetmap.org/search?q=%s&addressdetails=1&format=json\" % urllib2.quote(address)\n",
    "url"
   ]
  },
  {
   "cell_type": "markdown",
   "metadata": {},
   "source": [
    "We can request this URL with the `urlopen()` function, which returns a stream we can read from."
   ]
  },
  {
   "cell_type": "code",
   "execution_count": 3,
   "metadata": {},
   "outputs": [
    {
     "data": {
      "text/plain": [
       "'[{\"place_id\":\"228527596\",\"licence\":\"Data \\xc2\\xa9 OpenStreetMap contributors, ODbL 1.0. https:\\\\/\\\\/osm.org\\\\/copyright\",\"osm_type\":\"way\",\"osm_id\":\"564931814\",\"boundingbox\":[\"38.8957842\",\"38.895924\",\"-77.0309688\",\"-77.0304609\"],\"lat\":\"38.8958536\",\"lon\":\"-77.0307129\",\"display_name\":\"Pennsylvania Ave, Penn Quarter, Washington, District of Columbia, 20004, United States of America\",\"class\":\"highway\",\"type\":\"path\",\"importance\":0.22875,\"address\":{\"path\":\"Pennsylvania Ave\",\"suburb\":\"Penn Quarter\",\"city\":\"Washington\",\"state\":\"District of Columbia\",\"postcode\":\"20004\",\"country\":\"United States of America\",\"country_code\":\"us\"}},{\"place_id\":\"158306366\",\"licence\":\"Data \\xc2\\xa9 OpenStreetMap contributors, ODbL 1.0. https:\\\\/\\\\/osm.org\\\\/copyright\",\"osm_type\":\"way\",\"osm_id\":\"397325778\",\"boundingbox\":[\"38.8633822\",\"38.8637409\",\"-76.9467576\",\"-76.945632\"],\"lat\":\"38.8636383\",\"lon\":\"-76.9463651\",\"display_name\":\"Pennsylvania Avenue, Coral Hills, Prince George\\'s County, District of Columbia, 20020, United States of America\",\"class\":\"highway\",\"type\":\"trunk\",\"importance\":0.225,\"address\":{\"road\":\"Pennsylvania Avenue\",\"locality\":\"Coral Hills\",\"county\":\"Prince George\\'s County\",\"state\":\"District of Columbia\",\"postcode\":\"20020\",\"country\":\"United States of America\",\"country_code\":\"us\"}}]'"
      ]
     },
     "execution_count": 3,
     "metadata": {},
     "output_type": "execute_result"
    }
   ],
   "source": [
    "data = urllib2.urlopen(url).read()\n",
    "data"
   ]
  },
  {
   "cell_type": "markdown",
   "metadata": {},
   "source": [
    "The result was returned to us in the form of JSON. JSON is JavaScript Object Notation&mdash;it's a human readable text-based format for transmitting key-value pairs (and strings, numbers, and arrays). The json package lets us convert between this and Python's native dictionaries, etc."
   ]
  },
  {
   "cell_type": "code",
   "execution_count": 4,
   "metadata": {},
   "outputs": [
    {
     "data": {
      "text/plain": [
       "[{'address': {'city': 'Washington',\n",
       "   'country': 'United States of America',\n",
       "   'country_code': 'us',\n",
       "   'path': 'Pennsylvania Ave',\n",
       "   'postcode': '20004',\n",
       "   'state': 'District of Columbia',\n",
       "   'suburb': 'Penn Quarter'},\n",
       "  'boundingbox': ['38.8957842', '38.895924', '-77.0309688', '-77.0304609'],\n",
       "  'class': 'highway',\n",
       "  'display_name': 'Pennsylvania Ave, Penn Quarter, Washington, District of Columbia, 20004, United States of America',\n",
       "  'importance': 0.22875,\n",
       "  'lat': '38.8958536',\n",
       "  'licence': u'Data \\xa9 OpenStreetMap contributors, ODbL 1.0. https://osm.org/copyright',\n",
       "  'lon': '-77.0307129',\n",
       "  'osm_id': '564931814',\n",
       "  'osm_type': 'way',\n",
       "  'place_id': '228527596',\n",
       "  'type': 'path'},\n",
       " {'address': {'country': 'United States of America',\n",
       "   'country_code': 'us',\n",
       "   'county': \"Prince George's County\",\n",
       "   'locality': 'Coral Hills',\n",
       "   'postcode': '20020',\n",
       "   'road': 'Pennsylvania Avenue',\n",
       "   'state': 'District of Columbia'},\n",
       "  'boundingbox': ['38.8633822', '38.8637409', '-76.9467576', '-76.945632'],\n",
       "  'class': 'highway',\n",
       "  'display_name': \"Pennsylvania Avenue, Coral Hills, Prince George's County, District of Columbia, 20020, United States of America\",\n",
       "  'importance': 0.225,\n",
       "  'lat': '38.8636383',\n",
       "  'licence': u'Data \\xa9 OpenStreetMap contributors, ODbL 1.0. https://osm.org/copyright',\n",
       "  'lon': '-76.9463651',\n",
       "  'osm_id': '397325778',\n",
       "  'osm_type': 'way',\n",
       "  'place_id': '158306366',\n",
       "  'type': 'trunk'}]"
      ]
     },
     "execution_count": 4,
     "metadata": {},
     "output_type": "execute_result"
    }
   ],
   "source": [
    "import simplejson as json\n",
    "\n",
    "json.loads(data)"
   ]
  },
  {
   "cell_type": "code",
   "execution_count": 5,
   "metadata": {},
   "outputs": [
    {
     "data": {
      "text/plain": [
       "['38.8957842', '38.895924', '-77.0309688', '-77.0304609']"
      ]
     },
     "execution_count": 5,
     "metadata": {},
     "output_type": "execute_result"
    }
   ],
   "source": [
    "json.loads(data)[0]['boundingbox']"
   ]
  },
  {
   "cell_type": "markdown",
   "metadata": {},
   "source": [
    "Note that this was a public API, with no authentication.  We'll go through an example of the code for an authenticated API at the end -- the example will be the free Twitter stream.  (The reason we didn't do this up front is that you can't run the code without signing up for an API key, etc.)"
   ]
  },
  {
   "cell_type": "markdown",
   "metadata": {},
   "source": [
    "## Handling URL parameters\n"
   ]
  },
  {
   "cell_type": "markdown",
   "metadata": {},
   "source": [
    "`urllib2` module requires an enormous amount of work to perform the simplest of tasks. The `requests` library provides a higher-level way to do web requests. This is already nice in examples, like the above, where we need to encode parameters into the URL.  It is even more convenient when there are also `POST` parameters (or cookies, or authentication, or...) involved.  (Don't worry if you don't know what that means.)"
   ]
  },
  {
   "cell_type": "code",
   "execution_count": null,
   "metadata": {
    "collapsed": true
   },
   "outputs": [],
   "source": [
    "import requests\n",
    "def geocode(address):\n",
    "    params = { 'format'        :'json', \n",
    "               'addressdetails': 1, \n",
    "               'q'             : address}\n",
    "    return requests.get('http://nominatim.openstreetmap.org/search', params=params)\n",
    "\n",
    "response = geocode(\"107 Page St., San Francisco\")"
   ]
  },
  {
   "cell_type": "markdown",
   "metadata": {},
   "source": [
    "The parameters are automatically encoded and assembled into the query string."
   ]
  },
  {
   "cell_type": "code",
   "execution_count": null,
   "metadata": {
    "collapsed": true
   },
   "outputs": [],
   "source": [
    "response.url"
   ]
  },
  {
   "cell_type": "markdown",
   "metadata": {},
   "source": [
    "The raw response is available..."
   ]
  },
  {
   "cell_type": "code",
   "execution_count": null,
   "metadata": {
    "collapsed": true
   },
   "outputs": [],
   "source": [
    "response.text"
   ]
  },
  {
   "cell_type": "markdown",
   "metadata": {},
   "source": [
    "...but it can also be converted to JSON."
   ]
  },
  {
   "cell_type": "code",
   "execution_count": null,
   "metadata": {
    "collapsed": true
   },
   "outputs": [],
   "source": [
    "response.json()"
   ]
  },
  {
   "cell_type": "code",
   "execution_count": null,
   "metadata": {
    "collapsed": true
   },
   "outputs": [],
   "source": [
    "response.json()[0]['boundingbox']"
   ]
  },
  {
   "cell_type": "markdown",
   "metadata": {},
   "source": [
    "**Exercise:** The National Weather Service operates a free API for weather information.  A sample request looks like this: `http://forecast.weather.gov/MapClick.php?lat=37.7739&lon=-122.4225&FcstType=json`.\n",
    "\n",
    "Use the geocoder to write a function\n",
    "\n",
    "        def weather_at_address(address):\n",
    "            ....\n",
    "            \n",
    "that gets the current weather (temperature, cloudy or not) from a human-entered address."
   ]
  },
  {
   "cell_type": "markdown",
   "metadata": {},
   "source": [
    "## Authenticated APIs\n"
   ]
  },
  {
   "cell_type": "markdown",
   "metadata": {},
   "source": [
    "Lots of interesting APIs are free (or at least free for moderate use) but still require you to register first.  The `requests` library (together with some supporting ones, e.g. `requests_oauthlib`) make it easy to consume these too.\n",
    "\n",
    "**Exercise:** In order to access the Twitter API, you must first sign up: create an app on http://apps.twitter.com, get an access token, *et voila*, you have your shiny new credentials -- consisting of four pieces of data. The file `secrets/twitter_secrets.json.sample` has the format template; then rename the file to have a `.nogit` extension to prevent it being tracked in a git repository."
   ]
  },
  {
   "cell_type": "code",
   "execution_count": 11,
   "metadata": {
    "collapsed": true
   },
   "outputs": [],
   "source": [
    "from requests_oauthlib import OAuth1\n",
    "import requests\n",
    "\n",
    "with open(\"secrets/twitter_secrets.json.nogit\") as fh:\n",
    "    secrets = json.loads(fh.read())\n",
    "\n",
    "# create an auth object\n",
    "auth = OAuth1(\n",
    "    secrets[\"api_key\"],\n",
    "    secrets[\"api_secret\"],\n",
    "    secrets[\"access_token\"],\n",
    "    secrets[\"access_token_secret\"]\n",
    ")"
   ]
  },
  {
   "cell_type": "markdown",
   "metadata": {},
   "source": [
    "Let's see all of Michael's friends."
   ]
  },
  {
   "cell_type": "code",
   "execution_count": 12,
   "metadata": {},
   "outputs": [
    {
     "data": {
      "text/plain": [
       "[(u'AnokyeFrancis38', u'Francis Anokye'),\n",
       " (u'best_workers', u'Best Workers'),\n",
       " (u'singla_gourish', u'gourish singla'),\n",
       " (u'expertmodels', u'Expert Models'),\n",
       " (u'odlabenonline', u'ODOI-LARTEY Benjamin'),\n",
       " (u'realCle0patra', u'Cleo'),\n",
       " (u'TheTechnologyTm', u'The Technology\\u2122'),\n",
       " (u'fedora_rapp', u'Fedora Rapp'),\n",
       " (u'DmeIntelligence', u'DME Intelligence'),\n",
       " (u'Edgar_Villegas', u'Edgar Villegas'),\n",
       " (u'Info_Data_Mgmt', u'Caroline Higgins'),\n",
       " (u'TheBigDataBot', u'The Big Data Bot'),\n",
       " (u'TaylorLevi6', u'Taylor Levi'),\n",
       " (u'ZaxUmar', u'Umar Zachary'),\n",
       " (u'Mracek', u'John Mracek'),\n",
       " (u'PeterSmails', u'Peter Smails'),\n",
       " (u'iotguide', u'IoT Guide'),\n",
       " (u'luxillo', u'Luis Chavez'),\n",
       " (u'noyonsazu', u'HotSpotSetup'),\n",
       " (u'JessicaMHill', u'Jessica M Hill'),\n",
       " (u'bmaltaverne', u'Bertrand Maltaverne'),\n",
       " (u'nimdvir', u'Nim Dvir'),\n",
       " (u'janzaibaloch786', u'Janzaib Masud Baloch'),\n",
       " (u'sumomomonomomo', u'Aymeric'),\n",
       " (u'TatumBa06465803', u'Tatum Barber'),\n",
       " (u'J3nTyrell', u'Jen Tyrell'),\n",
       " (u'M_E_Cat', u'Robert Warren'),\n",
       " (u'VirtualFrankie', u'Virtual Frankenstein \\U0001f47d'),\n",
       " (u'DMVecinal', u'dm vecinal'),\n",
       " (u'TechnoJederBig', u'TechnoJeder BigData'),\n",
       " (u'Minerva_DataLab', u\"Minerva's Data Lab\"),\n",
       " (u'bruce_2b', u'Bruce Wilson'),\n",
       " (u'ksandler1', u'Kathy Sandler'),\n",
       " (u'joehoribs', u'Joehoribs'),\n",
       " (u'cart_we', u'WeCart'),\n",
       " (u'andreaskayy', u'Andreas Kretz'),\n",
       " (u'fcocastillov', u'Francisco Antonio'),\n",
       " (u'ecoforumorg', u'ecoforumdotorg'),\n",
       " (u'renekate1', u'mirriam'),\n",
       " (u'gamelmag', u'Gameli Adzaho'),\n",
       " (u'Cdore_', u'Nii Commodore'),\n",
       " (u'AsmaAyeri', u'Thelma Samuels'),\n",
       " (u'imHealthy_2015', u'valentina'),\n",
       " (u'MindCommerce', u'Mind Commerce'),\n",
       " (u'cottila', u'David Cottila'),\n",
       " (u'msarozz', u'Saroj Humagain'),\n",
       " (u'Mark7475', u'Maria Duro'),\n",
       " (u'DME_Jun', u'DME Intelligence'),\n",
       " (u'BrolinWalters', u'Brolin Walters\\u2122'),\n",
       " (u'juandoming', u'juandoming')]"
      ]
     },
     "execution_count": 12,
     "metadata": {},
     "output_type": "execute_result"
    }
   ],
   "source": [
    "r = requests.get(\n",
    "    \"https://api.twitter.com/1.1/friends/ids.json\",\n",
    "    auth=auth,\n",
    "    params={'screen_name' : 'tianhuil'}\n",
    ")\n",
    "michaels_friends=r.json()\n",
    "\n",
    "r2 = requests.post(\n",
    "    'https://api.twitter.com/1.1/users/lookup.json',\n",
    "    auth=auth,\n",
    "    data={'user_id' : michaels_friends['ids'][:50]}\n",
    ")\n",
    "friends_info = r2.json()\n",
    "[(f['screen_name'], f['name']) for f in friends_info]"
   ]
  },
  {
   "cell_type": "markdown",
   "metadata": {},
   "source": [
    "Requests also makes it easy to deal with simple streaming APIs.  Let's stream 100 tweets from the Twitter feed."
   ]
  },
  {
   "cell_type": "code",
   "execution_count": 13,
   "metadata": {},
   "outputs": [
    {
     "name": "stdout",
     "output_type": "stream",
     "text": [
      "RT @SHINee: #SHINee #샤이니 #SHINee_TheStoryofLight\n",
      "\n",
      "💿The Story of Light EP.3 : 2018.06.25 #네가남겨둔말 #OURPAGE https://t.co/XhNXfwFjMQ\n",
      "Alla voy  #KarolSevilla #MichaelRonda #RuggeroPasquarelli #SoyLuna #KCAMexico\n",
      "RT @aries_hn: #Aries Sientes que siempre escuchas problemas, nunca soluciones, debes solucionar eres tú.\n",
      "RT @arkhamoriginis: روسيا حليف استراتيجي وعندن كتير طياب\n",
      "انصرهم على الطعمية يا رب\n",
      "RT @vinnybrack: I’m guessing this isn’t virgin airlines https://t.co/T8LpwahoEY\n",
      "RT @sabqorg: كررها الملك: \"#اعتدال_لا_انحلال\".. فجاء قرار #إعفاء_رئيس_هيئة_الترفيه. \n",
      " \n",
      "https://t.co/e8nbNE3sRa https://t.co/TRnlNc5aER\n",
      "mais sonoridade pfv https://t.co/xyH1vj1CPO\n",
      "Allah islami hareketin yardımcısıdır. #AlparslanKuytulaAdalet https://t.co/Q9UfwDmLKi\n",
      "#Bakırköy ❤️05369470329❤️\n",
      "👑Aktif ❤Pasif👑 \n",
      "\n",
      "#istanbulescort\n",
      "#istanbulgay\n",
      "#bahcelievler \n",
      "#bakirkoygay\n",
      "#bagcilargay… https://t.co/kh2riPnoL1\n",
      "My mate drew these for me for my birthday, I love them so much💙 https://t.co/Ku5bagCTK3\n",
      "@AAlshareey 😂😂😂😂😂😂👇👇 https://t.co/ygvi2GHskI\n",
      "パチ屋の営業利益全部俺に入ってこないかなー\n",
      "RT @babyyygucci: Ya’ll talking about how x’s victim is sad he died and how it discredits her rape and abuse. Victims go back to their abuse…\n",
      "RT @naghi_nasiri: از آدمی که همه دوستش دارند بترس\n",
      " هیچ آدمی نمی تونه\n",
      " همه را از خودش راضی نگه داره \n",
      "مگر اینکه یک خصلت کثیف را تو خودش پرورش…\n",
      "pareparehas pa rin kaming gising HAHAHA ORAYT\n",
      "@riku0267 やばいっすねw\n",
      "家の近所は全然見つからないです\n",
      "RT @deeputalks: Highest totals in ODI cricket:\n",
      "\n",
      "Men's ODIs: 481/6 Eng v Aus, Trent Bridge, 19 Jun 2018\n",
      "Women's ODIs: 490/4 NZ v Ire, Dublin…\n",
      "RT @yangyangshops: 🏆แจกกติกา รีทวิต&amp;กดติดตาม \n",
      "👉แจก4รางวัล4ผู้โชคดี\n",
      "\n",
      "1. ผ้าเชียร์ #หวังหยวน  1ผืน1รางวัล\n",
      "2.มินิการ์ด 2 ใบ 1รางวัล\n",
      "3.โปสการ์ด…\n",
      "@parxjimins Lagi ga sendiri gua, ntaran aja kalo kosong gua call lu, standby aja .g\n",
      "RT @ganiiiiii: 쌍둥이 딸에게 옆돌기 가르쳐주는 아버지 https://t.co/RG7dNLMQpD\n",
      "RT @SinBst: namjoon sweetie... https://t.co/MitUBuLtOQ\n",
      "RT @dada_mag7: 6/20(水)の深夜1時45分からフジテレビで放送される｢GATTACA｣、とても美しい映画なのでぜひ。イーサン・ホーク主演、ウマ・サーマンも出てます。遺伝子操作で完璧な人間が産まれる世界で、｢自然に｣産まれた主人公が不適合とされる境遇の中、宇宙飛…\n",
      "@Maril 伝え忘れてたけど、これ本当に美味しいよ\n",
      "RT @mubeatTV: [#mubeatupdate] \n",
      "The behind the scenes of #Yubin, #ACE, #ONF is uploaded in mubeat!\n",
      "Only fans who came to the recording are a…\n",
      "RT @YasmimFonseca21: Go Camilizers \n",
      "\n",
      "#KCAMexico #CamilaCabello #Havana #Camilizers https://t.co/6LgpPx9E4d\n",
      "RT @Doc_0: Also, there's an Inspector General report the DNC Media really, really, really doesn't want to talk about https://t.co/4nrVcEFPTr\n",
      "ألا ياضحكة شفاهي\n",
      "إذا وجهك علي أقبل 🕊\n",
      "ラマン！ https://t.co/y6OeTM1vu1\n",
      "@yeporpor @EPrinkOnTheRock ไม่ต้องกระมังค่ะแอดขาระบายอากาศดีต่อสุขภาพผิวกงนั้นของผัวค่ะ😜😋😅\n",
      "#เป๊กผลิตโชค… https://t.co/NGl0RqBk6g\n",
      "RT @flickrseavey: rt to be in a big gc\n",
      "REPLY IF U WANT ADDED CAUSE I CANT SEE PAST 50 RTS\n",
      "( ill make more than 1 if i have too )\n",
      "- be in an…\n",
      "RT @OhBrokenMsgs: Just because someone is strong enough to handle pain, doesn't mean they deserve it.\n",
      "The latest WallStreetAllStars News! https://t.co/vHOypXERgX\n",
      "RT @LorraineLopezs: Retweeting won't kill you. Let's appreciate this grandmother. 😭 https://t.co/G2LmGG4xp5\n",
      "RT @___Ayosh: عارفين كام مره قولنلكم فيها الحقيقة وافتكرتونا بهزر !!!!\n",
      "RT @xCosmeFulanitax: ENTRAN A LINK Y ME LO VOTAN. QUE SE MERECE TODO LO BUENO.  https://t.co/ona0jxQnRq #MarioMoran #KCAMexico https://t.co…\n",
      "RT @_arthbr: 🌕🌕🌕🌕🌕🌕🌕🌕\n",
      "🌕🌕🌕🌕🌕🌕🌕🌕\n",
      "🌕🌕🌕🌕🌘🌑🌒🌕\n",
      "🌕🌕🌕🌘🌑🌑🌑🌓\n",
      "🌕🌕🌖🌑👁🌑👁🌓\n",
      "🌕🌕🌗🌑🌑🌑🌑🌔\n",
      "🌕🌕🌘🌑🌑🌑🌒🌕\n",
      "🌕🌕🌘🌑🌑🌑🌓🌕\n",
      "🌕🌕🌘🌑🌑🌑🌔🌕\n",
      "🌕🌕🌘🌔🌘🌑🌕🌕\n",
      "🌕🌖🌒🌕🌗🌒🌕🌕\n",
      "🌕🌗🌓🌕🌗🌓🌕🌕\n",
      "🌕🌘🌔🌕🌗🌓🌕🌕\n",
      "🌖🌑🌔🌕🌗🌓🌕🌕\n",
      "Zerobank - A global money transfer and exchange system based on Blockchain #Zerobank_cash #Zerobank via @Zerobank_cash\n",
      "RT @LaVidaEnLetras: Nunca abandones... https://t.co/fPJ3K83Vd7\n",
      "@parejahot900 Hola hermosa con gusto te atiendo\n",
      "RT @RedTRaccoon: A heat wave on the East Coast could break records — and it's prompting warnings about dangerously poor air quality\n",
      "\n",
      "*Let's…\n",
      "@Zamo_Njomz I 👆😄\n",
      "RT @amcxfavs: Me : Nunca voy a conocer a mis idolos \n",
      "Also me : Me imagino como reaccionaria si los viera\n",
      "Tengo preparado que les diria en p…\n",
      "RT @brunawfilipa: depois queixam-se que perderam o amor da vossa vida e o caralho, poupem-me https://t.co/vxHU98LNkA\n",
      "o jardineiro da reitoria escuta e gosta de dua lipa\n",
      "É pra glorificar de pé!?! https://t.co/Cu8OHP3T25\n",
      "RT @BTS_twt: 그리고 1홉 https://t.co/6iKbXRltSH\n",
      "(فأسر بأهلك بقطع من الليل واتبع أدبارهم ولا يلتفت منكم أحد وامضوا حيث تؤمرون) [الحجر:65] https://t.co/Cq5AYX05LH\n",
      "@LittleBlogRTs I’m over at: https://t.co/fsS5oB5PPv 😊\n",
      "RT @SadhguruJV: A fortune to spend an hour with my dear father and they tell me it is #FathersDay . -Sg https://t.co/9XJFWGtcsp\n",
      "RT @PantBikash: बिहान बेलुकी एउटै तरकारी खादा\n",
      " दिक्क हुन्छ मान्छे,एउटै ब्यक्ति सग \n",
      "माया लाउदा नि झन कति दिक्क होला,\n",
      "तर माया तरकारी जस्तो है…\n",
      "Being anti-immigration is just being a disguised racist and nothing you can say will change that\n",
      "RT @ste9hL: do you ever wonder what songs make people think of you????\n",
      "RT @mmariewyf: The day your partner dares to lay his fingers on you or even dare to scream at you like a dog. Is the day you should leave h…\n",
      ".. https://t.co/9KAchafPnX\n",
      "RT @HeechulKiHijdi: Ryewook~Artemis: God of Hunting/Chastity/Archery/Moon\n",
      "STRENGTH:\n",
      "Patron of Hunters\n",
      "Nurturer of young\n",
      "Protector of animal…\n",
      "Jajajjajjajaa @JuanCastilla_P mira lo que encontré del 2014 :3 💗 https://t.co/8bO6KYTdjI\n",
      "Peste kada naay post abt Sanjo masuyad sad ko noh kalami baya mobalik\n",
      "マジで頼むから11月にグラフアートちゃんショップやって…推しの限定ポスカ…欲しいじゃーん…………😔😔😔😔😔🙌🙌🙌🙌🙌🙌\n",
      "RT @TrollFootball: Japan becomes the 1st Asian nation to beat a South American nation in the #WorldCup https://t.co/w8zOX5KQAL\n",
      "RT @Mykanyaphat: สิ่งที่คนอื่นเห็น Vs สิ่งที่เราเห็น 😊☺\n",
      "#ลิขิตรักTheCrownPrincess https://t.co/a0xocMkrPM\n",
      "RT @zyu_n: 世宇子の経流背有珠さんと派手野哲さん\n",
      "ユニフォームの事ワンピースだと思って描きすぎだろと思ってたら百合に見えてきた絵です https://t.co/GOvHMU3JQW\n",
      "RT @skaxgua: พีค วดฟ.  ตกรอบ555555555 \n",
      "นี่ว่าวดฟ.  เข้าใจผิดจุดนะที่บอกว่าการมาตามหาความฝันของตัวนางเองไปกวนใจใครอะ เพราะที่นังโดนขนาดนี้เพ…\n",
      "RT @sang_gone: 속보)따라하면 크롬 인터넷속도 매우매우 빨라져... https://t.co/XbQfc3NF62\n",
      "RT @WHATPALITWEARS: @snoopy21twit @PalitxTawan ขอวิเคราะห์เรื่องเนื้อผ้าต่อด้วยนะคะไหนๆกผ้มาถึงจุดนี้แล้ว แอดคิดว่าน่าจะเป็นผ้า Cotton เพรา…\n",
      "RT @YutoNagatomo5: 皆さんありがとう。\n",
      "みんなで勝ち取った勝利！\n",
      "嬉しいよ。\n",
      "全て出し切ったよ。\n",
      "似合わないけど、金髪にして勝利継続中。笑\n",
      "また次の試合に向けて良い準備を。\n",
      "RT @MsDawnSavoy: @ILoveBeinBlack @iKryse Yooooooo I had to watch this like 50-11 times lol 😂 “ see, ya nasty. You see that big a** tongue?…\n",
      "RT @yadavakhilesh: #PCS मेंस परीक्षा का पेपर लीक होना सरकार की नाकामयाबी, भ्रष्टाचार और उनकी अहंकारी ज़िद का प्रतीक है. सरकार व आयोग ख़ुद…\n",
      "ai eu não consigo enxergar futuro nenhum pra mim kkkkkkkkk já deu\n",
      "RT @neiltyson: In case you were wondering, one-third (95 out of 289) of all American Nobel Prizes in the Sciences have been earned by Immig…\n",
      "RT @GeoffroyRichon: @PerrineST @Philippe_FQSP Jamais!! Ce sont malheureusement des gosses pourris gâtés qui se croient tout permis et s'aut…\n",
      "RT @Taddl: Eure Entscheidung?\n",
      "RT @DPoaetic: Africans Will Download a Game, Skip All Instructions, And Later Ask You How It's being Played.What exactly is our problem.. 🤷…\n",
      "RT @Kitsch_Matsuo: 作家・中村文則氏が警鐘 「全体主義に入ったら戻れない」 https://t.co/QgAfH8MOKG #日刊ゲンダイDIGITAL\n",
      "@joserra_espn España, Bélgica, México y CR7...\n",
      "RT @Malomat_Plus: لمحبي الرياضيات 😃\n",
      "هل يمكنك أن تخبرنا كيف تم إخراج قطعة شيكولاتة واحدة بدون المساس بالشكل العام للقطعة الأصلية؟ https://t.…\n",
      "RT @VivekSu22409063: @Sadhusaparyada2 @Nivika2 @Priyapa28089403 झूठे गुरुआ बहुत है ये अनगिन करोड़ अनंत सारनाम का भेद बतावें सो सतवादी संत।…\n",
      "CRYPTO INSIDER: Central bankers claim bitcoin could break the internet https://t.co/MXlVLd4zwk\n",
      "https://t.co/jVn1vGSyXt\n",
      "RT @haymarketbooks: “I consider myself a revolutionary socialist. I would encourage all soldiers who have a conscience to lay down their ar…\n",
      "vivement le pal ce wk là\n",
      "RT @NoahShachtman: Brad, are you *trying* to get the boss impeached? I know that kinda worked out for Clinton but it is one risky re-electi…\n",
      "RT @CinemaGrids: Reflection in Wong Kar-wai's CHUNGKING EXPRESS. https://t.co/YOOcR8zz3N\n",
      "RT @jamescharles: happy father’s day https://t.co/9KmUbJX1zK\n",
      "#ReasonsToHaveABackUpPlan\n",
      "\n",
      "Your back up plan is actually the main plan. You just didn't want to have Karen screw it… https://t.co/C1v8uISidh\n",
      "RT @nozi_itika: うつけものが二人 ①\n",
      "※織田姉弟捏造\n",
      "#FateGO https://t.co/4HXObh5mPy\n"
     ]
    },
    {
     "name": "stdout",
     "output_type": "stream",
     "text": [
      "RT @3808digital: Due to everything I've been through, I've learned not to take life for granted 💯👌\n",
      "Midday Market Commentary (6/19) https://t.co/Vla6YbAjjC\n",
      "Sg Americas Securities Boosted Wellcare Health Plans Com $WCG Holding; Artesian Resources $ARTNA Has 0.75 Sentiment https://t.co/KAvWTX6jmD\n",
      "SLEEP PEACEFULLY, MY LUNGS ARE\n",
      "RT @billboard: .@KaceyMusgraves wants \"countrified\" collabs with @PostMalone &amp; @LanaDelRey https://t.co/Ow43hTypxM https://t.co/TE42xk32Nx\n",
      "RT @GivingUpSelf: Living in unrepentant sin hardens the spiritual arteries.\n",
      "\n",
      "#TuesdayThoughts #Confession\n",
      "#JesusSaves #GUS #JesusIsLord\n",
      "#Tr…\n",
      "RT @arnemx: @sabinaberman Más datos duros y menos teatro señora. https://t.co/SkAxPSFgnR\n",
      "@AshleyBBR_HOT 잘 안받는 음식이요? 뭔데? (네가 시선을 피했지만 계속 네가 시선을 마주봐줄때까지 너를 바라본다) 말해주시면 그건 최대한 피해볼게요~. 그리고 당연하죠! 여기서 나가기만하면...… https://t.co/2rHzxvAAw0\n",
      "Parece que o jogo virou, n é mesmo?!\n",
      "RT @BulamaU: Looks like that pig confuse Nigeria with Senegal @IamKanmi\n",
      "So 2k19 wall of fame where is it going to be at?\n",
      "@Luke5SOS I’m broke 😢\n",
      "RT @jazmin_sus: TODAY IS A NEW DAY TO TRY MY BEST TO BE OKAY. THINGS WILL BE OKAY. I WILL BE OKAY.\n",
      "This is the first song that actually sounds like more than Nicole  https://t.co/NiPjSOW9VP\n",
      "AIR JORDAN 1 RETRO HIGH UNC OFF-WHITE https://t.co/f4EFUQpAzA\n",
      "https://t.co/I11zWVkNpJ\n"
     ]
    }
   ],
   "source": [
    "import sys\n",
    "r_stream = requests.get('https://stream.twitter.com/1.1/statuses/sample.json', auth=auth, stream=True)\n",
    "counter = 0\n",
    "for line in r_stream.iter_lines():\n",
    "    # filter out keep-alive new lines\n",
    "    if not line:\n",
    "        continue\n",
    "    tweet = json.loads(line)\n",
    "    if 'text' in tweet:\n",
    "        counter +=1\n",
    "        print tweet['text']\n",
    "    sys.stdout.flush()\n",
    "    if counter > 100:\n",
    "        break"
   ]
  },
  {
   "cell_type": "markdown",
   "metadata": {},
   "source": [
    "We can restrict the location to be more-likely to get English-language tweets."
   ]
  },
  {
   "cell_type": "code",
   "execution_count": 14,
   "metadata": {},
   "outputs": [
    {
     "name": "stdout",
     "output_type": "stream",
     "text": [
      "@marcorubio @KellyannePolls Or just send the whole family back and tell them to enter the country legally. Simple,… https://t.co/xkSftnCPLd\n",
      "@alejandrozam199 @Televisa_Prensa @TD_Deportes Si me estaba dando cuentas saludos\n",
      "Afternoon it’s #tiptuesday \n",
      "Don’t forget to get… https://t.co/EQIHBJjvuz\n",
      "@nataliaaabrn Bet\n",
      "if y’all going to pick idols y’all gotta pick better ones bc the ones y’all picking are trash and that’s just that.\n",
      "Another day, another tech dollar :) (at @Staples in Totowa, NJ) https://t.co/4TsZWtwcv5\n",
      "why are people saying he recorded this before he died? lol it’s still a good message even tho it wasn’t recorded “r… https://t.co/hTO3Er8LPS\n",
      "@GiannoCaldwell What I’m saying is, acknowledging a man that doesn’t support you enough to properly condemn people… https://t.co/QjubnCWpHK\n",
      "@BillKristol #WokeBillKristol is a stone cold assassin with the rhetoric\n",
      "Sadio Mane is the only African in the world that cannot dance.\n",
      "Hands down the best version of @ChrisStapleton “Tennessee Whiskey” 🙌🏻✨🎶 @RachelHorter https://t.co/iZGSpB8Jun\n",
      "So some dude sent me a dick pic on grindr and I was like wow that looks big (it really was I was genuinely impressed) and he blocked me? 😂\n",
      "golden girls theme song everyone tells me all the time lmao https://t.co/yr4daOVffp\n",
      "burnt out\n",
      ". @HKane (my brother) liked my dad's tweet for gods sake. https://t.co/VP0giUqIwa\n",
      "@gigicuevass But I still love the new you😘\n",
      "I'm watching a white older woman flip out on someone in the T-mobile store\n",
      "@the_donrobles Lmfao y’all deep cuz\n",
      "@KC_Sass I needed to hear that right now. Thank you.\n",
      "@digby56 Yet\n",
      "Everytime I listen to Kendrick, it reminds me of the concert and how bad I cried because I was so happy 😭\n",
      "teachers wait till the final days to play with our grades\n",
      "@Jim_Connell_417 Arkansas driver 😎\n",
      "Ight y’all these individuals came to studios… https://t.co/A01AAtyPng\n",
      "@HighImG lol\n",
      "ordering my outfit for this nba youngboy concert today.\n",
      "@Valdez58A Love that song Babe!\n",
      "self righteous drag culture strikes again https://t.co/UhOjYtsYCQ\n",
      "@matthewamiller Obviously these are his supporters. No small business person who hates Trump would be there.\n",
      "#FuckTrump in my Robert Dinero voice. #potus #Trump https://t.co/0Z9LHy80AZ\n",
      "Ever wonder what it’s like to see a walk off goal from the stands... We got you! #OurTownOurClub \n",
      "\n",
      " https://t.co/D38fvTePt6\n",
      "🌍 https://t.co/HKQIizylJK\n",
      "@bearjew318 Fix that shit for Cali\n",
      "@whitneyd I thought for a second this was directed at me because I’m at work and kind of distracted lol\n",
      "If you're looking for work in #Middletown, OH, check out this #job: https://t.co/BKATQDZtRc #DirectCare #Operations #Hiring #CareerArc\n",
      "@SaraCarterDC Keep us informed good JOB\n",
      "REFUCKINGTWEET https://t.co/nD5SUZmsYU\n",
      "@R_I おお、御用達なくらいにメジャーなのですねwww\n",
      "Now y’all wanna fight me for talking about a subject everybody was talking about???????? I don’t give a rats ass ab… https://t.co/XDC98MQdpd\n",
      "Happy birthday to my Gemini soul sister! Love you forever and miss you sooo much Appa💖 @gibbigirll19 https://t.co/q15lVgAs58\n",
      "Ive never played 1 single song by xxx and still won’t 🙅🏽‍♂️\n",
      "@weeklystandard That’s not entirely true. It’s a combination of past laws and court rulings that are why it is happ… https://t.co/4Y7SLnQLSJ\n",
      "thank u ❤️💕 https://t.co/IZsZmzstGo\n",
      "@MSNBC @KamalaHarris Nielsen is doing a fabulous job.  It's @kamalaHarris I wouldn't trust.  She'll stab you in your back.\n",
      "🤗 I’ll never stop anybody from doing them if you feel like that’s what you wanna do 👌🏾💯\n",
      "Est cost is $2.38 million\n",
      "But I stand by my U2 statement\n",
      "LA TONIGHT!!!! https://t.co/2jQ9xGuIeZ\n",
      "Whitney Elizabeth Houston!! I sobbed!! SOBBED!!! https://t.co/C3SmGIlQPS\n",
      "@Spider_Man_45 Definitely a towel\n",
      "@rachel_anne423 MAAATTTTT\n",
      "@NebFarmerDan Or cover crop\n",
      "Delta lake.... who’s tryna come?\n",
      "Giving the fuel tanks some nozzle (@ Pilot Travel Center - @pilotflyingj in Nevada, MO) https://t.co/TNdLiT4Qo5\n",
      "Any cable news channel who airs a live Trump speech is doing this country a disservice. You need to delay it and po… https://t.co/haN5vv3M7N\n",
      "If I had a dollar for every time someone asked me if I’m Armenian or Persian , I’d be rich\n",
      "@mikelaudato10 Thanks Mikey❤️❤️ love ya homie\n",
      "I’m so excited to go on a road trip with my best friend and her family in 2 weeks 💜\n",
      "y’all really be out here running around pressed like a space bar for is it in yet dick??? https://t.co/QDu0KUmwVP\n",
      "Need to fade parks mall after I get my hair done Saturday\n",
      "Cleared: Construction on #NJ28 Both directions from CR 527/Mountain Ave to Mountain Ave\n",
      "hopefully i can see youuuu 😭 https://t.co/QwneCY8EsR\n",
      "Clout. Whore. 🤦🏽‍♀️\n",
      "@hauggy87 *hell. I freaking hate autocorrect https://t.co/zfSK5rzAdP\n",
      "Ermm Egypt, DONT Disappoint me I beg 💪🏿\n",
      "@LionCuban @Hecdawg55 @tony4sanchez @collazophilly @ArdelioValdes @MonteAJP23 @rudedogreyes @LionCuban &amp; me be like… https://t.co/prD9STd9J0\n",
      "@BabaBaabs @GameXplain Thanks Brandon!\n",
      "@potus says \"they aren't sending their finest\"..no because they are not sending anyone..they are fleeing  for their… https://t.co/3YBlRClmmF\n",
      "@mrdog5768 @kathouston2015 @realDonaldTrump Have you seen the pictures? Those seeking asylum are not trying to sneak in. Stop the hate.\n",
      "@OChuluunbileg Odoo bolioo ta nar garj ajil hii hudlaaa shaaj bhaar\n",
      "I did this SAME EXACT THING!!!! Now my eye sight is HORRIBLE https://t.co/ewu2qZLmym\n",
      "@NancyLeeGrahn @realDonaldTrump No typos. He didn’t type this by his big boy self, for I am the #45grammarpolice an… https://t.co/f9gAvDuub7\n",
      "@Mrs_L_Ackles @realJan_really @Spacetime_Warp @kateera_ @naganosilver98 @ChaucerKate @NDandHB @nbc @Sony @SPTV… https://t.co/GVmNg7yfGi\n",
      "If You Understand Spanish Tell Me My Brother Did Not Snap, Rapea Tan Cabron Mano El Mini Jon Z !!! https://t.co/Ho4GjOiDyH\n",
      "Fake love 😂😂\n",
      "@Gmanjoe podcast, sir.\n",
      "💀 you better ask someone about me\n",
      "The worst is when you accidentally close your music app during a good song\n",
      "Twitter undefeated https://t.co/Wwlro7W6I7\n",
      "https://t.co/oReN3zKZry\n",
      "SUPA HEROOO STATIC SHOCK (Woo-Woo) https://t.co/JXGCaukykl\n",
      "@DearAuntCrabby @SHSanders45 @PressSec @SHSanders45 Here’s a solution... tell the gestapo to stop doing it!!!!\n",
      "Hell no https://t.co/EWXk6aLcAt\n",
      "@fashionkillaa1 What's good\n",
      "I know you really want it.. but you belong to somebody else.\n",
      "@TomCottonAR @USA_Samaritan Most aren't parents,\n",
      "Child Sex Traffick Masters\n",
      "😂 https://t.co/cRaxQ5yvML\n",
      "Everyone on the blogs questioning if u a  x fan need Jesus ......and a hug\n",
      "MISTY JUSY GOT A FUCKING BIONIC ARM!! THE HELL IS WRONG WITH YOU? WHY DO WE HAVE TO RAGE EVERY. SINGLE. TIME. RESPE… https://t.co/AaNuUHFoXN\n",
      "RIP to the Benz 😞\n",
      "Senegal’s celebration after their win is my favorite part of the World Cup so far.\n",
      "Wait, what did I miss? Did he trade Karlsson?! https://t.co/wceiY97g1R\n",
      "I don’t understand why all these mfs from my past keep tryin to talk to me. Like fuck y’all, y’all had your chance… https://t.co/BovhHd0QrA\n",
      "Ya desperté!\n",
      "Por si estaban con el pendiente.\n",
      "National Cathedral + blue paint = ?!?! https://t.co/S4DKNEucxk\n",
      "@YouTooCanBeGuru Congrats!\n",
      "@janeayre97 Security check, taxes, mental health clearance by multiple physicians. Yes!!!\n",
      "RFT https://t.co/x4r0IkbZB4\n",
      "@SenBillNelson Liars\n",
      "@sofianebenzaza @_marcuzzi @100_Soccer @FLord_TVA Absolument d’accord. Mais ça ne sera jamais parfait. Au moins ce… https://t.co/y76ReDutfP\n"
     ]
    }
   ],
   "source": [
    "from itertools import islice  # Question: what does islice do?\n",
    "\n",
    "r_stream = requests.post('https://stream.twitter.com/1.1/statuses/filter.json', auth=auth,\n",
    "                          stream=True, data={\"locations\" : \"-125,23,-70,50\"} )\n",
    "for line in islice(r_stream.iter_lines(), 100):\n",
    "    # filter out keep-alive new lines\n",
    "    if not line:\n",
    "        continue\n",
    "    tweet = json.loads(line)\n",
    "    if 'text' in tweet:\n",
    "        print tweet['text']\n",
    "    sys.stdout.flush()"
   ]
  },
  {
   "cell_type": "markdown",
   "metadata": {},
   "source": [
    "## API Request Limitations\n"
   ]
  },
  {
   "cell_type": "markdown",
   "metadata": {},
   "source": [
    "Some Authenticated APIs have hard limits on the total number of requests that can be made by one user in one day. An API service that uses a freemium or paid service model will enforce a limit so they can encourage high-volume users to pay for better data access. API providers also do this to force software developers to be disciplined and thoughtful in their use of the API service.\n",
    "\n",
    "All APIs might have soft limits based on some ambiguous definition of excessive use. Google, for example, will block your IP address if you make too many requests to their services too quickly. Presumably this is done with a machine learning algorithm built specifically for this purpose. Bloomberg has a Python API associated with their desktop terminal application. They will revoke access if you exceed daily or monthly hard limits, but unfortunately specifics of those limits are not shared with any of their users.\n",
    "\n",
    "These limits create challenges for the cost-conscious data scientist. Happily, Python has tools to help. One of them is the [ediblepickle](https://pypi.python.org/pypi/ediblepickle/1.1.3) package. This package provides a  convenient facility for caching the results of function calls. This can help prevent unnecessary duplicate requests to an API.\n",
    "\n",
    "In the below example, the previous `geocode` function is modified with ediblepickle's `checkpoint` decorator. It wraps the `geocode2` function with additional functionality to cache the results of the first function call in a pickle file. The results are stored in a file name that is dependent on the function arguments.\n",
    "\n",
    "If this function is called a second time with the same function arguments, the `checkpoint` decorator will intercept the call and retrieve the results from the cached pickle file.\n",
    "\n",
    "It is important that the file name be valid file name that is unique to the function parameters. In this example, we use `urllib2.quote` to escape characters and generate a proper file name."
   ]
  },
  {
   "cell_type": "code",
   "execution_count": null,
   "metadata": {
    "collapsed": true
   },
   "outputs": [],
   "source": [
    "from ediblepickle import checkpoint\n",
    "import os\n",
    "\n",
    "cache_dir = 'cache'\n",
    "if not os.path.exists(cache_dir):\n",
    "    os.mkdir(cache_dir)\n",
    "\n",
    "@checkpoint(key=lambda args, kwargs: urllib2.quote(args[0]) + '.p', work_dir=cache_dir)\n",
    "def geocode2(address):\n",
    "    params = { 'format'        :'json', \n",
    "               'addressdetails': 1, \n",
    "               'q'             : address}\n",
    "    print 'making API request...'\n",
    "    result = requests.get('http://nominatim.openstreetmap.org/search', params=params)\n",
    "    print 'API request complete.'\n",
    "    return result\n",
    "    \n",
    "address = \"City Hall Park, New York, NY 10007\""
   ]
  },
  {
   "cell_type": "code",
   "execution_count": null,
   "metadata": {
    "collapsed": true
   },
   "outputs": [],
   "source": [
    "%%time\n",
    "\n",
    "# this created the cached file. observe the creation of a new pickle file in the cache directory.\n",
    "response = geocode2(address)\n",
    "print response.json()"
   ]
  },
  {
   "cell_type": "code",
   "execution_count": null,
   "metadata": {
    "collapsed": true
   },
   "outputs": [],
   "source": [
    "%%time\n",
    "\n",
    "# this reads the cached file. observe that this executes ~100x faster.\n",
    "# the print statements in the geocode2 function do not appear because the function itself is not executed at all.\n",
    "response = geocode2(address)\n",
    "print response.json()"
   ]
  },
  {
   "cell_type": "markdown",
   "metadata": {},
   "source": [
    "### Exercises\n"
   ]
  },
  {
   "cell_type": "markdown",
   "metadata": {},
   "source": [
    "1. Write a Python script that takes as input an address and outputs 50 tweets from within about 10 miles of it.\n",
    "Now modify it to return the top 10 hashtags within that 10 mile range (based on, say, a 1000 tweet sample).\n",
    "1. You can plot maps using this [Python Package](http://peak5390.wordpress.com/2012/12/08/matplotlib-basemap-tutorial-plotting-points-on-a-simple-map/).  Get geo-located tweets from the streaming API and plot them on the map."
   ]
  },
  {
   "cell_type": "markdown",
   "metadata": {},
   "source": [
    "### Further reading for this lecture\n"
   ]
  },
  {
   "cell_type": "markdown",
   "metadata": {},
   "source": [
    "To learn more about JSON (there isn't much more to know!):\n",
    " - http://www.secretgeek.net/json_3mins.asp\n",
    " - http://en.wikipedia.org/wiki/JSON (esp. \"Data types, syntax, and examples\")\n",
    " - http://tools.ietf.org/html/rfc7159\n",
    "\n",
    "A useful tool for playing with JSON on the command line is [`jq`](http://stedolan.github.io/jq/).\n",
    "\n",
    "To learn more about about the prevailing design pattern (\"REST\") for web-based APIs:\n",
    " - http://en.wikipedia.org/wiki/Representational_state_transfer\n",
    " \n",
    "One wild card is the wide variety of authentication strategies employed (\"basic auth\", cookies, bearer token, OAuth, OAuth 2, etc.).  For several of these, the documentation at http://docs.python-requests.org/en/latest/user/authentication/ is helpful."
   ]
  },
  {
   "cell_type": "markdown",
   "metadata": {},
   "source": [
    "### Exit Tickets"
   ]
  },
  {
   "cell_type": "markdown",
   "metadata": {},
   "source": [
    "1. Explain the difference between requests.get() and requests.post().\n",
    "2. What data structures do JSON objects in Python use?\n",
    "3. Describe what the remote site is doing when it receives an API request from you."
   ]
  },
  {
   "cell_type": "markdown",
   "metadata": {},
   "source": [
    "*Copyright &copy; 2015 The Data Incubator.  All rights reserved.*"
   ]
  }
 ],
 "metadata": {
  "kernelspec": {
   "display_name": "Python 2",
   "language": "python",
   "name": "python2"
  },
  "language_info": {
   "codemirror_mode": {
    "name": "ipython",
    "version": 2
   },
   "file_extension": ".py",
   "mimetype": "text/x-python",
   "name": "python",
   "nbconvert_exporter": "python",
   "pygments_lexer": "ipython2",
   "version": "2.7.15"
  },
  "nbclean": true
 },
 "nbformat": 4,
 "nbformat_minor": 1
}
