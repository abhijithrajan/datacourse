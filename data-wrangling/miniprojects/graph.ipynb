{
 "cells": [
  {
   "cell_type": "code",
   "execution_count": 1,
   "metadata": {
    "collapsed": true
   },
   "outputs": [],
   "source": [
    "%matplotlib inline\n",
    "import matplotlib\n",
    "import matplotlib.pyplot as plt\n",
    "import seaborn as sns\n",
    "sns.set()\n",
    "matplotlib.rcParams['figure.dpi'] = 144\n",
    "#from requests_futures.sessions import FuturesSession"
   ]
  },
  {
   "cell_type": "code",
   "execution_count": 2,
   "metadata": {
    "collapsed": true
   },
   "outputs": [],
   "source": [
    "from static_grader import grader"
   ]
  },
  {
   "cell_type": "code",
   "execution_count": 3,
   "metadata": {
    "collapsed": true
   },
   "outputs": [],
   "source": [
    "import requests\n",
    "import dill\n",
    "import pickle\n",
    "from bs4 import BeautifulSoup\n",
    "from datetime import datetime"
   ]
  },
  {
   "cell_type": "markdown",
   "metadata": {},
   "source": [
    "# The New York Social Graph\n"
   ]
  },
  {
   "cell_type": "markdown",
   "metadata": {},
   "source": [
    "[New York Social Diary](http://www.newyorksocialdiary.com/) provides a\n",
    "fascinating lens onto New York's socially well-to-do.  The data forms a natural social graph for New York's social elite.  Take a look at this page of a recent [run-of-the-mill holiday party](http://www.newyorksocialdiary.com/party-pictures/2014/holiday-dinners-and-doers).\n",
    "\n",
    "Besides the brand-name celebrities, you will notice the photos have carefully annotated captions labeling those that appear in the photos.  We can think of this as implicitly implying a social graph: there is a connection between two individuals if they appear in a picture together.\n",
    "\n",
    "For this project, we will assemble the social graph from photo captions for parties dated December 1, 2014, and before.  Using this graph, we can make guesses at the most popular socialites, the most influential people, and the most tightly coupled pairs.\n",
    "\n",
    "We will attack the project in three phases:\n",
    "1. Get a list of all the photo pages to be analyzed.\n",
    "2. Parse all of the captions on a sample page.\n",
    "3. Parse all of the captions on all pages, and assemble the graph."
   ]
  },
  {
   "cell_type": "markdown",
   "metadata": {
    "heading_collapsed": true
   },
   "source": [
    "## Phase One\n"
   ]
  },
  {
   "cell_type": "markdown",
   "metadata": {
    "hidden": true
   },
   "source": [
    "The first step is to crawl the data.  We want photos from parties on or before December 1st, 2014.  Go to the [Party Pictures Archive](http://www.newyorksocialdiary.com/party-pictures) to see a list of (party) pages.  We want to get the url for each party page, along with its date.\n",
    "\n",
    "Here are some packages that you may find useful.  You are welcome to use others, if you prefer."
   ]
  },
  {
   "cell_type": "markdown",
   "metadata": {
    "hidden": true
   },
   "source": [
    "We recommend using Python [Requests](http://docs.python-requests.org/en/master/) to download the HTML pages, and [BeautifulSoup](https://www.crummy.com/software/BeautifulSoup/) to process the HTML.  Let's start by getting the [first page](http://www.newyorksocialdiary.com/party-pictures)."
   ]
  },
  {
   "cell_type": "code",
   "execution_count": 3,
   "metadata": {
    "collapsed": true,
    "hidden": true
   },
   "outputs": [],
   "source": [
    "link_url = \"http://www.newyorksocialdiary.com/party-pictures\"\n",
    "page = requests.get(link_url) # Use requests.get to download the page."
   ]
  },
  {
   "cell_type": "markdown",
   "metadata": {
    "hidden": true
   },
   "source": [
    "Now, we process the text of the page with BeautifulSoup."
   ]
  },
  {
   "cell_type": "code",
   "execution_count": 4,
   "metadata": {
    "collapsed": true,
    "hidden": true
   },
   "outputs": [],
   "source": [
    "soup = BeautifulSoup(page.text, \"lxml\")"
   ]
  },
  {
   "cell_type": "markdown",
   "metadata": {
    "hidden": true
   },
   "source": [
    "This page has links to 50 party pages. Look at the structure of the page and determine how to isolate those links.  Your browser's developer tools (usually `Cmd`-`Option`-`I` on Mac, `Ctrl`-`Shift`-`I` on others) offer helpful tools to explore the structure of the HTML page.\n",
    "\n",
    "Once you have found a pattern, use BeautifulSoup's [select](https://www.crummy.com/software/BeautifulSoup/bs4/doc/#css-selectors) or [find_all](https://www.crummy.com/software/BeautifulSoup/bs4/doc/#find) methods to get those elements."
   ]
  },
  {
   "cell_type": "code",
   "execution_count": 5,
   "metadata": {
    "hidden": true
   },
   "outputs": [
    {
     "data": {
      "text/plain": [
       "'Full of love'"
      ]
     },
     "execution_count": 5,
     "metadata": {},
     "output_type": "execute_result"
    }
   ],
   "source": [
    "soup.select('span.views-field.views-field-title a')[0].text"
   ]
  },
  {
   "cell_type": "code",
   "execution_count": 6,
   "metadata": {
    "collapsed": true,
    "hidden": true
   },
   "outputs": [],
   "source": [
    "links = soup.select('div.views-row span a')"
   ]
  },
  {
   "cell_type": "markdown",
   "metadata": {
    "hidden": true
   },
   "source": [
    "There should be 50 per page."
   ]
  },
  {
   "cell_type": "code",
   "execution_count": 7,
   "metadata": {
    "collapsed": true,
    "hidden": true
   },
   "outputs": [],
   "source": [
    "assert len(links) == 50"
   ]
  },
  {
   "cell_type": "markdown",
   "metadata": {
    "hidden": true
   },
   "source": [
    "Let's take a look at that first link.  Figure out how to extract the URL of the link, as well as the date.  You probably want to use `datetime.strptime`.  See the [format codes for dates](https://docs.python.org/2/library/datetime.html#strftime-and-strptime-behavior) for reference."
   ]
  },
  {
   "cell_type": "code",
   "execution_count": 8,
   "metadata": {
    "hidden": true
   },
   "outputs": [
    {
     "name": "stdout",
     "output_type": "stream",
     "text": [
      "http://www.newyorksocialdiary.com/party-pictures/2018/full-of-love 2018-06-20 00:00:00\n"
     ]
    }
   ],
   "source": [
    "link = soup.select('div.views-row span a')[0]['href']\n",
    "# Check that the title and date match what you see visually.\n",
    "url = \"http://www.newyorksocialdiary.com\"+link\n",
    "dates_lst = soup.select('span.views-field.views-field-created')\n",
    "date_fmt = datetime.strptime(str(dates_lst[0].text).strip(), '%A, %B %d, %Y')\n",
    "print(url, date_fmt)"
   ]
  },
  {
   "cell_type": "markdown",
   "metadata": {
    "hidden": true
   },
   "source": [
    "For purposes of code reuse, let's put that logic into a function.  It should take the link element and return the URL and date parsed from it."
   ]
  },
  {
   "cell_type": "code",
   "execution_count": 9,
   "metadata": {
    "collapsed": true,
    "hidden": true
   },
   "outputs": [],
   "source": [
    "def get_link_date(el):\n",
    "    url = \"http://www.newyorksocialdiary.com\"+el.select('div.views-row span a')[0]['href']\n",
    "    dates_lst = el.select('span.views-field.views-field-created')\n",
    "    date_fmt = datetime.strptime(str(dates_lst[0].text).strip(), '%A, %B %d, %Y')\n",
    "\n",
    "    return url, date_fmt"
   ]
  },
  {
   "cell_type": "code",
   "execution_count": 10,
   "metadata": {
    "hidden": true
   },
   "outputs": [
    {
     "data": {
      "text/plain": [
       "('http://www.newyorksocialdiary.com/party-pictures/2018/full-of-love',\n",
       " datetime.datetime(2018, 6, 20, 0, 0))"
      ]
     },
     "execution_count": 10,
     "metadata": {},
     "output_type": "execute_result"
    }
   ],
   "source": [
    "get_link_date(soup)"
   ]
  },
  {
   "cell_type": "markdown",
   "metadata": {
    "hidden": true
   },
   "source": [
    "You may want to check that it works as you expected.\n",
    "\n",
    "Once that's working, let's write another function to parse all of the links on a page.  Thinking ahead, we can make it take a Requests [Response](http://docs.python-requests.org/en/master/api/#requests.Response) object and do the BeautifulSoup parsing within it."
   ]
  },
  {
   "cell_type": "code",
   "execution_count": 11,
   "metadata": {
    "collapsed": true,
    "hidden": true
   },
   "outputs": [],
   "source": [
    "def get_links(response):\n",
    "    soup = BeautifulSoup(page.text, \"lxml\")\n",
    "    urls = soup.select('div.views-row span a')\n",
    "    dates = soup.select('span.views-field.views-field-created')\n",
    "    url_date = []\n",
    "    for a1, a2 in zip(urls,dates):\n",
    "        url = link_url + a1['href']\n",
    "        date_fmt = datetime.strptime(str(a2.text).strip(), '%A, %B %d, %Y')\n",
    "        url_date.append([url,date_fmt])\n",
    "    return url_date"
   ]
  },
  {
   "cell_type": "markdown",
   "metadata": {
    "hidden": true
   },
   "source": [
    "If we run this on the previous response, we should get 50 pairs."
   ]
  },
  {
   "cell_type": "code",
   "execution_count": 12,
   "metadata": {
    "collapsed": true,
    "hidden": true
   },
   "outputs": [],
   "source": [
    "assert len(get_links(page)) == 50"
   ]
  },
  {
   "cell_type": "markdown",
   "metadata": {
    "hidden": true
   },
   "source": [
    "But we only want parties with dates on or before the first of December, 2014.  Let's write a function to filter our list of dates to those at or before a cutoff.  Using a keyword argument, we can put in a default cutoff, but allow us to test with others."
   ]
  },
  {
   "cell_type": "code",
   "execution_count": 13,
   "metadata": {
    "collapsed": true,
    "hidden": true
   },
   "outputs": [],
   "source": [
    "def filter_by_date(links, cutoff=datetime(2014, 12, 1)):\n",
    "    new_list = []\n",
    "    for url,date in links:\n",
    "        # Return only the elements with date <= cutoff\n",
    "        if date <= cutoff:\n",
    "            new_list.append([url,date])\n",
    "    return new_list # A list of URL, date pairs        "
   ]
  },
  {
   "cell_type": "markdown",
   "metadata": {
    "hidden": true
   },
   "source": [
    "With the default cutoff, there should be no valid parties on the first page.  Adjust the cutoff date to check that it is actually working."
   ]
  },
  {
   "cell_type": "code",
   "execution_count": 14,
   "metadata": {
    "collapsed": true,
    "hidden": true
   },
   "outputs": [],
   "source": [
    "assert len(filter_by_date(get_links(page))) == 0"
   ]
  },
  {
   "cell_type": "markdown",
   "metadata": {
    "hidden": true
   },
   "source": [
    "Now we should be ready to get all of the party URLs.  Click through a few of the index pages to determine how the URL changes.  Figure out a strategy to visit all of them.\n",
    "\n",
    "HTTP requests are generally IO-bound.  This means that most of the time is spent waiting for the remote server to respond.  If you use `requests` directly, you can only wait on one response at a time.  [requests-futures](https://github.com/ross/requests-futures) lets you wait for multiple requests at a time.  You may wish to use this to speed up the downloading process."
   ]
  },
  {
   "cell_type": "code",
   "execution_count": 15,
   "metadata": {
    "collapsed": true,
    "hidden": true
   },
   "outputs": [],
   "source": [
    "stop_link = soup.find('li', attrs={'class':'pager__item pager__item--last'})\n",
    "stop_val = int(stop_link.contents[0]['href'].split('=')[1])\n",
    "\n",
    "urls = [link_url+'?page=%d'%(i) for i in range(stop_val+1)]\n",
    "\n",
    "#session = FuturesSession()\n",
    "#futures = [session.get(url) for url in urls]\n",
    "\n",
    "link_list = []\n",
    "for url in urls:\n",
    "    page = requests.get(url)\n",
    "    list1 = get_links(page)\n",
    "#    print(list1)\n",
    "    list2 = filter_by_date(list1)\n",
    "    link_list.extend(list2)"
   ]
  },
  {
   "cell_type": "markdown",
   "metadata": {
    "hidden": true
   },
   "source": [
    "In the end, you should have 1193 parties."
   ]
  },
  {
   "cell_type": "code",
   "execution_count": 16,
   "metadata": {
    "collapsed": true,
    "hidden": true
   },
   "outputs": [],
   "source": [
    "assert len(link_list) == 1193"
   ]
  },
  {
   "cell_type": "markdown",
   "metadata": {
    "hidden": true
   },
   "source": [
    "In case we need to restart the notebook, we should save this information to a file.  There are many ways you could do this; here's one using `dill`."
   ]
  },
  {
   "cell_type": "code",
   "execution_count": 17,
   "metadata": {
    "collapsed": true,
    "hidden": true
   },
   "outputs": [],
   "source": [
    "#dill.dump(link_list, open('nysd-links.pkd', 'w'))\n",
    "pickle.dump( link_list, open( \"nysd-links.p\", \"wb\" ), protocol=2)"
   ]
  },
  {
   "cell_type": "markdown",
   "metadata": {
    "hidden": true
   },
   "source": [
    "To restore the list, we can just load it from the file.  When the notebook is restarted, you can skip the code above and just run this command."
   ]
  },
  {
   "cell_type": "code",
   "execution_count": 4,
   "metadata": {
    "collapsed": true,
    "hidden": true
   },
   "outputs": [],
   "source": [
    "link_list = pickle.load(open('nysd-links.p', 'rb'))"
   ]
  },
  {
   "cell_type": "markdown",
   "metadata": {
    "heading_collapsed": true
   },
   "source": [
    "## Question 1: histogram\n"
   ]
  },
  {
   "cell_type": "markdown",
   "metadata": {
    "hidden": true
   },
   "source": [
    "Get the number of party pages for the 95 months (that is, month-year pair) in the data.  Notice that while the party codes might be written as \"FRIDAY, FEBRUARY 28, 2014\", in this output, you would have to represent the month-year code as \"Feb-2014\".  This can all be done with `strftime` and the [format codes for dates](https://docs.python.org/2/library/datetime.html#strftime-and-strptime-behavior).\n",
    "\n",
    "Plot the histogram for yourself.  Do you see any trends?"
   ]
  },
  {
   "cell_type": "code",
   "execution_count": null,
   "metadata": {
    "collapsed": true,
    "hidden": true
   },
   "outputs": [],
   "source": []
  },
  {
   "cell_type": "code",
   "execution_count": 5,
   "metadata": {
    "hidden": true
   },
   "outputs": [
    {
     "name": "stdout",
     "output_type": "stream",
     "text": [
      "==================\n",
      "Your score:  1.0\n",
      "==================\n"
     ]
    }
   ],
   "source": [
    "from collections import defaultdict, OrderedDict, Counter\n",
    "def histogram():\n",
    "    dates = []\n",
    "    for url, date in link_list: dates.append(date)\n",
    "    sorted_dates = [datetime.strftime(date, \"%b-%Y\") for date in sorted(dates)]\n",
    "\n",
    "    ndict = OrderedDict()\n",
    "    for sdate in sorted_dates:\n",
    "        if sdate in ndict.keys():\n",
    "            ndict[sdate] += 1\n",
    "        else:\n",
    "            ndict[sdate] = 1 \n",
    "    fin_list = []\n",
    "    for key, value in ndict.items():\n",
    "        fin_list.append((key,value))\n",
    "    return fin_list  # Replace with the correct list\n",
    "\n",
    "grader.score(question_name='graph__histogram', func=histogram)"
   ]
  },
  {
   "cell_type": "markdown",
   "metadata": {
    "heading_collapsed": true
   },
   "source": [
    "## Phase Two\n"
   ]
  },
  {
   "cell_type": "markdown",
   "metadata": {
    "hidden": true
   },
   "source": [
    "In this phase, we we concentrate on getting the names out of captions for a given page.  We'll start with [the benefit cocktails and dinner](http://www.newyorksocialdiary.com/party-pictures/2015/celebrating-the-neighborhood) for [Lenox Hill Neighborhood House](http://www.lenoxhill.org/), a neighborhood organization for the East Side.\n",
    "\n",
    "Take a look at that page.  Note that some of the text on the page is captions, but others are descriptions of the event.  Determine how to select only the captions."
   ]
  },
  {
   "cell_type": "code",
   "execution_count": 4,
   "metadata": {
    "collapsed": true,
    "hidden": true
   },
   "outputs": [],
   "source": [
    "link_list = pickle.load(open('nysd-links.p', 'rb'))"
   ]
  },
  {
   "cell_type": "code",
   "execution_count": 5,
   "metadata": {
    "collapsed": true,
    "hidden": true
   },
   "outputs": [],
   "source": [
    "page = requests.get(\"http://www.newyorksocialdiary.com/party-pictures/2015/celebrating-the-neighborhood\")\n",
    "soup = BeautifulSoup(page.text, \"lxml\")\n",
    "\n",
    "captions = soup.select('div.photocaption')"
   ]
  },
  {
   "cell_type": "markdown",
   "metadata": {
    "hidden": true
   },
   "source": [
    "By our count, there are about 110.  But if you're off by a couple, you're probably okay."
   ]
  },
  {
   "cell_type": "code",
   "execution_count": 6,
   "metadata": {
    "collapsed": true,
    "hidden": true
   },
   "outputs": [],
   "source": [
    "assert abs(len(captions) - 110) < 5"
   ]
  },
  {
   "cell_type": "markdown",
   "metadata": {
    "hidden": true
   },
   "source": [
    "Let's encapsulate this in a function.  As with the links pages, we want to avoid downloading a given page the next time we need to run the notebook.  While we could save the files by hand, as we did before, a checkpoint library like [ediblepickle](https://pypi.python.org/pypi/ediblepickle/1.1.3) can handle this for you.  (Note, though, that you may not want to enable this until you are sure that your function is working.)\n",
    "\n",
    "You should also keep in mind that HTTP requests fail occasionally, for transient reasons.  You should plan how to detect and react to these failures.   The [retrying module](https://pypi.python.org/pypi/retrying) is one way to deal with this."
   ]
  },
  {
   "cell_type": "code",
   "execution_count": 7,
   "metadata": {
    "collapsed": true,
    "hidden": true
   },
   "outputs": [],
   "source": [
    "def get_captions(path):\n",
    "    page = requests.get(\"http://www.newyorksocialdiary.com\" + path)\n",
    "    soup = BeautifulSoup(page.text, \"lxml\")\n",
    "\n",
    "    return soup.select('div.photocaption')"
   ]
  },
  {
   "cell_type": "markdown",
   "metadata": {
    "hidden": true
   },
   "source": [
    "This should get the same captions as before."
   ]
  },
  {
   "cell_type": "code",
   "execution_count": 8,
   "metadata": {
    "collapsed": true,
    "hidden": true
   },
   "outputs": [],
   "source": [
    "assert captions == get_captions(\"/party-pictures/2015/celebrating-the-neighborhood\")"
   ]
  },
  {
   "cell_type": "markdown",
   "metadata": {
    "hidden": true
   },
   "source": [
    "Now that we have some sample captions, let's start parsing names out of those captions.  There are many ways of going about this, and we leave the details up to you.  Some issues to consider:\n",
    "\n",
    "  1. Some captions are not useful: they contain long narrative texts that explain the event.  Try to find some heuristic rules to separate captions that are a list of names from those that are not.  A few heuristics include:\n",
    "    - look for sentences (which have verbs) and as opposed to lists of nouns. For example, [`nltk` does part of speech tagging](http://www.nltk.org/book/ch05.html) but it is a little slow. There may also be heuristics that accomplish the same thing.\n",
    "    - Similarly, spaCy's [entity recognition](https://spacy.io/docs/usage/entity-recognition) could be useful here.\n",
    "    - Look for commonly repeated threads (e.g. you might end up picking up the photo credits or people such as \"a friend\").\n",
    "    - Long captions are often not lists of people.  The cutoff is subjective, but for grading purposes, *set that cutoff at 250 characters*.\n",
    "  2. You will want to separate the captions based on various forms of punctuation.  Try using `re.split`, which is more sophisticated than `string.split`. **Note**: The reference solution uses regex exclusively for name parsing.\n",
    "  3. You might find a person named \"ra Lebenthal\".  There is no one by this name.  Can anyone spot what's happening here?\n",
    "  4. This site is pretty formal and likes to say things like \"Mayor Michael Bloomberg\" after his election but \"Michael Bloomberg\" before his election.  Can you find other ('optional') titles that are being used?  They should probably be filtered out because they ultimately refer to the same person: \"Michael Bloomberg.\"\n",
    "  5. There is a special case you might find where couples are written as eg. \"John and Mary Smith\". You will need to write some extra logic to make sure this properly parses to two names: \"John Smith\" and \"Mary Smith\".\n",
    "  6. When parsing names from captions, it can help to look at your output frequently and address the problems that you see coming up, iterating until you have a list that looks reasonable. This is the approach used in the reference solution. Because we can only asymptotically approach perfect identification and entity matching, we have to stop somewhere.\n",
    "  \n",
    "**Questions worth considering:**\n",
    "  1. Who is Patrick McMullan and should he be included in the results? How would you address this?\n",
    "  2. What else could you do to improve the quality of the graph's information?"
   ]
  },
  {
   "cell_type": "code",
   "execution_count": 173,
   "metadata": {
    "hidden": true
   },
   "outputs": [
    {
     "data": {
      "text/plain": [
       "{u'Alberto Villalobos',\n",
       " u'Alex Papachristidis',\n",
       " u'Alexandra Richards',\n",
       " u'Alexis Mersentes',\n",
       " u'Allen Swerdlick',\n",
       " u'Allison Minton',\n",
       " u'Andi Potamkin',\n",
       " u'Angela Clofine',\n",
       " u'Anna Yatskevich',\n",
       " u'Anne Strickland',\n",
       " u'Annie Watt',\n",
       " u'Barbara Regna',\n",
       " u'Barbara Tober',\n",
       " u'Ben Needell Esq',\n",
       " u'Bette Midler',\n",
       " u'Bryna Pomp',\n",
       " u'C. Virginia Fields',\n",
       " u'Caroline Dean',\n",
       " u'Chele Farley',\n",
       " u'Christopher Spitzmiller',\n",
       " u'Clark Munnell',\n",
       " u'Craig Leavitt',\n",
       " u'Cynthia Adler',\n",
       " u'Dan Tishman',\n",
       " u'David Duncan',\n",
       " u'David Rockwell',\n",
       " u'David Svanda',\n",
       " u'Davon Windsor',\n",
       " u'DeMaurier',\n",
       " u'Debbie Bancroft',\n",
       " u'Deborah Lloyd',\n",
       " u'Deborah Marton',\n",
       " u'Dennis Freedman',\n",
       " u'Diana Quasha',\n",
       " u'Donald Tober',\n",
       " u'Donna Soloway',\n",
       " u'Doris Liebman',\n",
       " u'Doug Steinbrech',\n",
       " u'Douglas Little',\n",
       " u'Drew Schiff',\n",
       " u'Ebony G. Patterson',\n",
       " u'Edwin Hathaway',\n",
       " u'Elizabeth Johnson',\n",
       " u'Elizabeth Swartz',\n",
       " u'Ellen Niven',\n",
       " u'Emily Leonard',\n",
       " u'Esra Munnell',\n",
       " u'Eveyln Subramaniam',\n",
       " u'Geoffrey Bradfield',\n",
       " u'George Perry',\n",
       " u'Gina Nanni',\n",
       " u'Glenn Adamson',\n",
       " u'Gordan Kenney',\n",
       " u'Harry Heissmann',\n",
       " u'Helene Tilney',\n",
       " u'Honorees Sheryl',\n",
       " u'Howard Ben Tre',\n",
       " u'James Farley',\n",
       " u'Jane Krakowski',\n",
       " u'Jared Goss',\n",
       " u'Jay Sugarman',\n",
       " u'Jennifer Cacioppo',\n",
       " u'Jennifer Fujitani',\n",
       " u'Jerome Chazen',\n",
       " u'Jill Huggins',\n",
       " u'Jim Killerlane',\n",
       " u'Jimmy Nederlander',\n",
       " u'Joan Craig',\n",
       " u'John Demsey',\n",
       " u'John Rosselli',\n",
       " u'Jon Recor',\n",
       " u'Jonas Barcellos',\n",
       " u'Judy Gold',\n",
       " u'Julia Kuni',\n",
       " u'Julia Weld',\n",
       " u'Kamie Lightburn',\n",
       " u'Kate White',\n",
       " u'Katherine DeConti',\n",
       " u'Kathy',\n",
       " u'Keith Johnson',\n",
       " u'Kelly Bensimon',\n",
       " u'Kelly Sugarman',\n",
       " u'Ken Fishel',\n",
       " u'Kevin Fox',\n",
       " u'Kevin Lichten',\n",
       " u'Kevin Michael Barba',\n",
       " u'Kirsten Bailey',\n",
       " u'Kristina Ward',\n",
       " u'Lacary Sharpe',\n",
       " u'Lance LePere',\n",
       " u'Laura Kruger',\n",
       " u'Lee Strock',\n",
       " u'Lenox Hill',\n",
       " u'Lesley Dryden',\n",
       " u'Leticia Presutti',\n",
       " u'Lewis Kruger',\n",
       " u'Liana Makkos',\n",
       " u\"Linda Allard's\",\n",
       " u'Linda Fargo',\n",
       " u'Lindsey Coral Harper',\n",
       " u'Lisa Halpern',\n",
       " u'Lisa Wilkenson',\n",
       " u'Liz Nacey',\n",
       " u'Lola Rockwell',\n",
       " u'Lowery Stokes Sims',\n",
       " u'Lynette Dallas',\n",
       " u'Maria Fishel',\n",
       " u'Mariam Azarm',\n",
       " u'Mario Buatta',\n",
       " u'Marisa Rose',\n",
       " u'Mark Robinson',\n",
       " u'Martin Pomp',\n",
       " u'Martin von Haselberg',\n",
       " u'Mary Van Pelt',\n",
       " u'Matthew Bees',\n",
       " u'Mia McDonald',\n",
       " u'Michael Clofine',\n",
       " u'Michael Kors',\n",
       " u'Michael McGraw',\n",
       " u'Michel Witmer',\n",
       " u'Michelle Fox',\n",
       " u'Michelle Halpern',\n",
       " u'Nancy Hunt',\n",
       " u'Nathalie Gerschel Kaplan',\n",
       " u'Neville Wakefield',\n",
       " u'Nick Olsen',\n",
       " u'Nile Rodgers',\n",
       " u'Patrick Jones',\n",
       " u'Paul Longo',\n",
       " u'Peter Regna',\n",
       " u'Rachel Hilbert',\n",
       " u'Ralph Pucci',\n",
       " u'Randy Kemper',\n",
       " u'Randy Takian',\n",
       " u'Richard Farley',\n",
       " u'Richard Lightburn',\n",
       " u'Richard Soloway',\n",
       " u'Rick Presutti',\n",
       " u'Robert Ruffino',\n",
       " u'Roric Tobin',\n",
       " u'Ryan Davis',\n",
       " u'Samuel Kelly',\n",
       " u'Sana Sabbagh',\n",
       " u'Sandra Gering',\n",
       " u'Sarah',\n",
       " u'Sean McAndrew',\n",
       " u'Searcy Dryden',\n",
       " u'Shelly Malkin',\n",
       " u'Shoshanna Gruss',\n",
       " u'Simon Doonan',\n",
       " u'Stacy Reilly',\n",
       " u'Stephen Simcock',\n",
       " u'Steve Evans',\n",
       " u'Stewart Ward',\n",
       " u'Sydney Shuman',\n",
       " u'Thomas Hammer',\n",
       " u'Tina Wong',\n",
       " u'Todd DeGarmo',\n",
       " u'Tom Edelman',\n",
       " u'Tom Wilkenson',\n",
       " u'Tony Ingrao',\n",
       " u'Tood Eberle',\n",
       " u'Valentin Hernandez',\n",
       " u'Virginia Wilbanks',\n",
       " u'Warren Scharf',\n",
       " u'Wendy Carduner',\n",
       " u'Wendy Diamond',\n",
       " u'Wendy MacGaw',\n",
       " u'Yaz Hernandez',\n",
       " u'Zombie Gillian\\u2019s Island'}"
      ]
     },
     "execution_count": 173,
     "metadata": {},
     "output_type": "execute_result"
    }
   ],
   "source": [
    "names_list = pickle.load(open(\"nysd-names.p\", 'rb'))\n",
    "set(names_list)"
   ]
  },
  {
   "cell_type": "markdown",
   "metadata": {
    "heading_collapsed": true
   },
   "source": [
    "## Question 2: sample_names\n"
   ]
  },
  {
   "cell_type": "markdown",
   "metadata": {
    "hidden": true
   },
   "source": [
    "Once you feel that your algorithm is working well on these captions, parse all of the captions and extract all the names mentioned.  Sort them alphabetically, by first name, and return the first hundred."
   ]
  },
  {
   "cell_type": "code",
   "execution_count": 175,
   "metadata": {
    "hidden": true
   },
   "outputs": [
    {
     "name": "stdout",
     "output_type": "stream",
     "text": [
      "==================\n",
      "Your score:  0.95\n",
      "==================\n"
     ]
    }
   ],
   "source": [
    "def sample_names():\n",
    "    names_list = pickle.load(open(\"nysd-names.p\", 'rb'))\n",
    "    return names_list[:100]\n",
    "    \n",
    "grader.score(question_name='graph__sample_names', func=sample_names)"
   ]
  },
  {
   "cell_type": "markdown",
   "metadata": {
    "hidden": true
   },
   "source": [
    "Now, run this sort of test on a few other pages.  You will probably find that other pages have a slightly different HTML structure, as well as new captions that trip up your caption parser.  But don't worry if the parser isn't perfect -- just try to get the easy cases."
   ]
  },
  {
   "cell_type": "markdown",
   "metadata": {},
   "source": [
    "## Phase Three\n"
   ]
  },
  {
   "cell_type": "markdown",
   "metadata": {},
   "source": [
    "Once you are satisfied that your caption scraper and parser are working, run this for all of the pages.  If you haven't implemented some caching of the captions, you probably want to do this first."
   ]
  },
  {
   "cell_type": "code",
   "execution_count": 14,
   "metadata": {},
   "outputs": [
    {
     "name": "stdout",
     "output_type": "stream",
     "text": [
      "97521\n"
     ]
    }
   ],
   "source": [
    "# Scraping all of the pages could take 10 minutes or so.\n",
    "all_caps_list = pickle.load(open(\"nysd-caption-list.p\", 'rb'))\n",
    "print(len(all_caps_list))"
   ]
  },
  {
   "cell_type": "markdown",
   "metadata": {},
   "source": [
    "For the remaining analysis, we think of the problem in terms of a\n",
    "[network](http://en.wikipedia.org/wiki/Computer_network) or a\n",
    "[graph](https://en.wikipedia.org/wiki/Graph_%28discrete_mathematics%29).  Any time a pair of people appear in a photo together, that is considered a link.  What we have described is more appropriately called an (undirected)\n",
    "[multigraph](http://en.wikipedia.org/wiki/Multigraph) with no self-loops but this has an obvious analog in terms of an undirected [weighted graph](http://en.wikipedia.org/wiki/Graph_%28mathematics%29#Weighted_graph).  In this problem, we will analyze the social graph of the New York social elite.  We recommend using python's [`networkx`](https://networkx.github.io/) library."
   ]
  },
  {
   "cell_type": "code",
   "execution_count": 5,
   "metadata": {
    "collapsed": true
   },
   "outputs": [],
   "source": [
    "import itertools  # itertools.combinations may be useful\n",
    "import networkx as nx"
   ]
  },
  {
   "cell_type": "code",
   "execution_count": 15,
   "metadata": {
    "collapsed": true
   },
   "outputs": [],
   "source": [
    "from collections import defaultdict\n",
    "adict = defaultdict(int)\n",
    "for lst in all_caps_list:\n",
    "    for a in itertools.combinations(lst, 2):\n",
    "        adict[a] += 1"
   ]
  },
  {
   "cell_type": "code",
   "execution_count": 17,
   "metadata": {
    "collapsed": true
   },
   "outputs": [],
   "source": [
    "G=nx.Graph()\n",
    "for k, v in adict.items():\n",
    "    G.add_edge(*k, weight=v)"
   ]
  },
  {
   "cell_type": "code",
   "execution_count": 20,
   "metadata": {
    "collapsed": true
   },
   "outputs": [],
   "source": [
    "sorted_degrees = sorted(nx.degree(G, weight='weight').items(), key=lambda (k,v): (v,k), reverse=True)"
   ]
  },
  {
   "cell_type": "markdown",
   "metadata": {},
   "source": [
    "All in all, you should end up with over 100,000 captions and more than 110,000 names, connected in about 200,000 pairs."
   ]
  },
  {
   "cell_type": "markdown",
   "metadata": {},
   "source": [
    "## Question 3: degree\n"
   ]
  },
  {
   "cell_type": "markdown",
   "metadata": {},
   "source": [
    "The simplest question to ask is \"who is the most popular\"?  The easiest way to answer this question is to look at how many connections everyone has.  Return the top 100 people and their degree.  Remember that if an edge of the graph has weight 2, it counts for 2 in the degree.\n",
    "\n",
    "**Checkpoint:** Some aggregate stats on the solution\n",
    "\n",
    "    \"count\": 100.0\n",
    "    \"mean\": 189.92\n",
    "    \"std\": 87.8053034454\n",
    "    \"min\": 124.0\n",
    "    \"25%\": 138.0\n",
    "    \"50%\": 157.0\n",
    "    \"75%\": 195.0\n",
    "    \"max\": 666.0"
   ]
  },
  {
   "cell_type": "code",
   "execution_count": 23,
   "metadata": {},
   "outputs": [
    {
     "name": "stdout",
     "output_type": "stream",
     "text": [
      "==================\n",
      "Your score:  0.93\n",
      "==================\n"
     ]
    }
   ],
   "source": [
    "import heapq  # Heaps are efficient structures for tracking the largest\n",
    "              # elements in a collection.  Use introspection to find the\n",
    "              # function you need.\n",
    "def degree():\n",
    "    return sorted_degrees[:100]\n",
    "\n",
    "grader.score(question_name='graph__degree', func=degree)"
   ]
  },
  {
   "cell_type": "markdown",
   "metadata": {},
   "source": [
    "## Question 4: PageRank\n"
   ]
  },
  {
   "cell_type": "markdown",
   "metadata": {},
   "source": [
    "A similar way to determine popularity is to look at their\n",
    "[PageRank](http://en.wikipedia.org/wiki/PageRank).  PageRank is used for web ranking and was originally\n",
    "[patented](http://patft.uspto.gov/netacgi/nph-Parser?patentnumber=6285999) by Google and is essentially the stationary distribution of a [Markov\n",
    "chain](http://en.wikipedia.org/wiki/Markov_chain) implied by the social graph.\n",
    "\n",
    "Use 0.85 as the damping parameter so that there is a 15% chance of jumping to another vertex at random.\n",
    "\n",
    "**Checkpoint:** Some aggregate stats on the solution\n",
    "\n",
    "    \"count\": 100.0\n",
    "    \"mean\": 0.0001841088\n",
    "    \"std\": 0.0000758068\n",
    "    \"min\": 0.0001238355\n",
    "    \"25%\": 0.0001415028\n",
    "    \"50%\": 0.0001616183\n",
    "    \"75%\": 0.0001972663\n",
    "    \"max\": 0.0006085816"
   ]
  },
  {
   "cell_type": "code",
   "execution_count": 24,
   "metadata": {
    "collapsed": true
   },
   "outputs": [],
   "source": [
    "pgrnk = nx.pagerank(G, alpha=0.85, weight='weight')"
   ]
  },
  {
   "cell_type": "code",
   "execution_count": 25,
   "metadata": {
    "collapsed": true
   },
   "outputs": [],
   "source": [
    "sorted_pgrnk = sorted(pgrnk.items(), key=lambda (k,v): (v,k), reverse=True)"
   ]
  },
  {
   "cell_type": "code",
   "execution_count": 26,
   "metadata": {},
   "outputs": [
    {
     "name": "stdout",
     "output_type": "stream",
     "text": [
      "==================\n",
      "Your score:  0.97\n",
      "==================\n"
     ]
    }
   ],
   "source": [
    "def pagerank():\n",
    "    \n",
    "    return sorted_pgrnk[:100]\n",
    "\n",
    "grader.score(question_name='graph__pagerank', func=pagerank)"
   ]
  },
  {
   "cell_type": "markdown",
   "metadata": {},
   "source": [
    "## Question 5: best_friends\n"
   ]
  },
  {
   "cell_type": "markdown",
   "metadata": {},
   "source": [
    "Another interesting question is who tend to co-occur with each other.  Give us the 100 edges with the highest weights.\n",
    "\n",
    "Google these people and see what their connection is.  Can we use this to detect instances of infidelity?\n",
    "\n",
    "**Checkpoint:** Some aggregate stats on the solution\n",
    "\n",
    "    \"count\": 100.0\n",
    "    \"mean\": 25.84\n",
    "    \"std\": 16.0395470855\n",
    "    \"min\": 14.0\n",
    "    \"25%\": 16.0\n",
    "    \"50%\": 19.0\n",
    "    \"75%\": 29.25\n",
    "    \"max\": 109.0"
   ]
  },
  {
   "cell_type": "code",
   "execution_count": 27,
   "metadata": {
    "collapsed": true
   },
   "outputs": [],
   "source": [
    "sorted_adict = sorted(adict.items(), key=lambda (k,v): (v,k), reverse=True)"
   ]
  },
  {
   "cell_type": "code",
   "execution_count": 28,
   "metadata": {},
   "outputs": [
    {
     "name": "stdout",
     "output_type": "stream",
     "text": [
      "==================\n",
      "Your score:  0.91\n",
      "==================\n"
     ]
    }
   ],
   "source": [
    "def best_friends():\n",
    "    return sorted_adict[:100]\n",
    "\n",
    "grader.score(question_name='graph__best_friends', func=best_friends)"
   ]
  },
  {
   "cell_type": "markdown",
   "metadata": {},
   "source": [
    "*Copyright &copy; 2016 The Data Incubator.  All rights reserved.*"
   ]
  }
 ],
 "metadata": {
  "kernelspec": {
   "display_name": "Python 2",
   "language": "python",
   "name": "python2"
  },
  "language_info": {
   "codemirror_mode": {
    "name": "ipython",
    "version": 2
   },
   "file_extension": ".py",
   "mimetype": "text/x-python",
   "name": "python",
   "nbconvert_exporter": "python",
   "pygments_lexer": "ipython2",
   "version": "2.7.15"
  },
  "nbclean": true
 },
 "nbformat": 4,
 "nbformat_minor": 1
}
